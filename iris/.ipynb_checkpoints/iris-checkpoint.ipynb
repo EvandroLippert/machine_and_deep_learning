{
 "cells": [
  {
   "cell_type": "code",
   "execution_count": null,
   "metadata": {},
   "outputs": [],
   "source": [
    "import pandas as pd\n",
    "import numpy as np\n",
    "import os\n",
    "import matplotlib.pyplot as plt\n",
    "import seaborn as sns\n",
    "%matplotlib inline\n",
    "\n",
    "import torch\n",
    "import torch.nn as nn\n",
    "import torch.optim as optim\n",
    "\n",
    "from sklearn.preprocessing import StandardScaler    \n",
    "from sklearn.model_selection import train_test_split\n"
   ]
  },
  {
   "cell_type": "code",
   "execution_count": null,
   "metadata": {},
   "outputs": [],
   "source": [
    "data = pd.read_csv('datasets/iris.data', sep=',', names=['sepal_length', 'sepal_width', 'petal_length', 'petal_width', 'class'])"
   ]
  },
  {
   "cell_type": "code",
   "execution_count": null,
   "metadata": {},
   "outputs": [],
   "source": [
    "data['class'].unique()"
   ]
  },
  {
   "cell_type": "code",
   "execution_count": null,
   "metadata": {},
   "outputs": [],
   "source": [
    "data['class'].replace({'Iris-setosa': 0, 'Iris-versicolor':1, 'Iris-virginica':2}, inplace=True)"
   ]
  },
  {
   "cell_type": "code",
   "execution_count": null,
   "metadata": {},
   "outputs": [],
   "source": [
    "data.describe()"
   ]
  },
  {
   "cell_type": "code",
   "execution_count": null,
   "metadata": {},
   "outputs": [],
   "source": [
    "data.corr()"
   ]
  },
  {
   "cell_type": "code",
   "execution_count": null,
   "metadata": {},
   "outputs": [],
   "source": [
    "sns.heatmap(data.corr(), cmap='Blues', annot=True)\n",
    "plt.show()"
   ]
  },
  {
   "cell_type": "code",
   "execution_count": null,
   "metadata": {},
   "outputs": [],
   "source": [
    "data.isnull().sum()"
   ]
  },
  {
   "cell_type": "code",
   "execution_count": null,
   "metadata": {},
   "outputs": [],
   "source": [
    "f, ax = plt.subplots(2, 2)\n",
    "\n",
    "sns.boxplot(x='class', y='sepal_length', data=data, ax= ax[0,0])\n",
    "sns.boxplot(x='class', y='sepal_width', data=data, ax= ax[0,1])\n",
    "sns.boxplot(x='class', y='petal_length', data=data, ax= ax[1,0])\n",
    "sns.boxplot(x='class', y='petal_width', data=data, ax= ax[1, 1])\n",
    "plt.show()"
   ]
  },
  {
   "cell_type": "code",
   "execution_count": null,
   "metadata": {},
   "outputs": [],
   "source": [
    "f, ax = plt.subplots(2, 2, figsize=(8, 4))\n",
    "sns.kdeplot(data['sepal_length'].loc[data['class']==0], shade=True, label='setosa', color='blue', ax=ax[0,0])\n",
    "sns.kdeplot(data['sepal_length'].loc[data['class']==1], shade=True, label='versicolor', color='yellow', ax=ax[0,0])\n",
    "sns.kdeplot(data['sepal_length'].loc[data['class']==2], shade=True, label='virginica', color='g', ax=ax[0,0])\n",
    "\n",
    "sns.kdeplot(data['sepal_width'].loc[data['class']==0], shade=True, label='setosa', color='blue', ax=ax[0,1])\n",
    "sns.kdeplot(data['sepal_width'].loc[data['class']==1], shade=True, label='versicolor', color='yellow', ax=ax[0,1])\n",
    "sns.kdeplot(data['sepal_width'].loc[data['class']==2], shade=True, label='virginica', color='g', ax=ax[0,1])\n",
    "\n",
    "sns.kdeplot(data['petal_length'].loc[data['class']==0], shade=True, label='setosa', color='blue', ax=ax[1,0])\n",
    "sns.kdeplot(data['petal_length'].loc[data['class']==1], shade=True, label='versicolor', color='yellow', ax=ax[1,0])\n",
    "sns.kdeplot(data['petal_length'].loc[data['class']==2], shade=True, label='virginica', color='green', ax=ax[1,0])\n",
    "\n",
    "sns.kdeplot(data['petal_width'].loc[data['class']==0], shade=True, label='setosa', color='blue', ax=ax[1, 1])\n",
    "sns.kdeplot(data['petal_width'].loc[data['class']==1], shade=True, label='versicolor', color='yellow', ax=ax[1, 1])\n",
    "sns.kdeplot(data['petal_width'].loc[data['class']==2], shade=True, label='virginica', color='darkgreen', ax=ax[1, 1])\n",
    "plt.legend()\n",
    "plt.show()"
   ]
  },
  {
   "cell_type": "markdown",
   "metadata": {},
   "source": [
    "## Splitting in input and output data"
   ]
  },
  {
   "cell_type": "code",
   "execution_count": null,
   "metadata": {},
   "outputs": [],
   "source": [
    "x = data.iloc[:, 0:-1]\n",
    "y = data.iloc[:, -1]"
   ]
  },
  {
   "cell_type": "markdown",
   "metadata": {},
   "source": [
    "## Train Test Split"
   ]
  },
  {
   "cell_type": "code",
   "execution_count": null,
   "metadata": {},
   "outputs": [],
   "source": [
    "x_train, x_test, y_train, y_test = train_test_split(x, y, test_size=0.33)"
   ]
  },
  {
   "cell_type": "code",
   "execution_count": null,
   "metadata": {},
   "outputs": [],
   "source": [
    "names = ['setosa', 'versicolor', 'virginica']\n",
    "feature_names = ['sepal length (cm)', 'sepal width (cm)', 'petal length (cm)', 'petal width (cm)']\n",
    "fig, (ax1, ax2) = plt.subplots(1, 2, figsize=(16, 6))\n",
    "for target, target_name in enumerate(names):\n",
    "    X_plot = np.array(x)[y == target]\n",
    "    ax1.plot(X_plot[:, 0], X_plot[:, 1], \n",
    "             linestyle='none', \n",
    "             marker='o', \n",
    "             label=target_name)\n",
    "ax1.set_xlabel(feature_names[0])\n",
    "ax1.set_ylabel(feature_names[1])\n",
    "ax1.axis('equal')\n",
    "ax1.legend();\n",
    "\n",
    "for target, target_name in enumerate(names):\n",
    "    X_plot = np.array(x)[y == target]\n",
    "    ax2.plot(X_plot[:, 2], X_plot[:, 3], \n",
    "             linestyle='none', \n",
    "             marker='o', \n",
    "             label=target_name)\n",
    "ax2.set_xlabel(feature_names[2])\n",
    "ax2.set_ylabel(feature_names[3])\n",
    "ax2.axis('equal')\n",
    "ax2.legend();"
   ]
  },
  {
   "cell_type": "markdown",
   "metadata": {},
   "source": [
    "## Standarize input"
   ]
  },
  {
   "cell_type": "code",
   "execution_count": null,
   "metadata": {},
   "outputs": [],
   "source": [
    "scaler = StandardScaler()\n",
    "x_train = scaler.fit_transform(x_train)\n",
    "x_test = scaler.transform(x_test)"
   ]
  },
  {
   "cell_type": "markdown",
   "metadata": {},
   "source": [
    "### Building the Neural Network"
   ]
  },
  {
   "cell_type": "code",
   "execution_count": null,
   "metadata": {},
   "outputs": [],
   "source": [
    "class Model(nn.Module):\n",
    "    def __init__(self, input_dim):\n",
    "        super(Model, self).__init__()\n",
    "        self.layer_1 = nn.Linear(input_dim, 16)\n",
    "        self.layer_2 = nn.Linear(16, 16) \n",
    "        self.layer_3 = nn.Linear(16, 256) \n",
    "        self.layer_4 = nn.Linear(256, 256)\n",
    "        self.layer_5 = nn.Linear(256, 65536)\n",
    "        self.layer_6 = nn.Linear(65536, 256)\n",
    "        self.layer_7 = nn.Linear(256, 256)\n",
    "        self.layer_8 = nn.Linear(256, 16) \n",
    "        self.layer_out = nn.Linear(16, 3) \n",
    "        self.relu = nn.ReLU()\n",
    "        self.softmax = nn.Softmax(dim=1)\n",
    "        self.dropout = nn.Dropout(p=0.1)\n",
    "        \n",
    "    def forward(self, inputs):\n",
    "        x = self.relu(self.layer_1(inputs))\n",
    "        x = self.relu(self.layer_2(x))\n",
    "        x = self.relu(self.layer_3(x))\n",
    "        x = self.relu(self.layer_4(x))\n",
    "        x = self.relu(self.layer_5(x))\n",
    "        x = self.relu(self.layer_6(x))\n",
    "        x = self.relu(self.layer_7(x))\n",
    "        x = self.relu(self.layer_8(x))\n",
    "        x = self.dropout(x)\n",
    "        x = self.layer_out(x)\n",
    "        x = self.softmax(x)\n",
    "        \n",
    "        return x"
   ]
  },
  {
   "cell_type": "code",
   "execution_count": null,
   "metadata": {},
   "outputs": [],
   "source": [
    "torch.cuda.is_available()"
   ]
  },
  {
   "cell_type": "code",
   "execution_count": null,
   "metadata": {},
   "outputs": [],
   "source": [
    "model = Model(x_train.shape[1])\n",
    "optimizer = torch.optim.Adam(model.parameters(), lr=0.0001, amsgrad=True )\n",
    "loss_fn = nn.CrossEntropyLoss()\n",
    "model.cuda()"
   ]
  },
  {
   "cell_type": "code",
   "execution_count": null,
   "metadata": {},
   "outputs": [],
   "source": [
    "import tqdm\n",
    "\n",
    "dummies = pd.DataFrame(y_train)\n",
    "dummies = dummies.replace({0: 'setosa', 1: 'versicolor', 2:'virginica'})\n",
    "dummies = pd.get_dummies(dummies)\n",
    "EPOCHS  = 200\n",
    "\n",
    "if torch.cuda.is_available():\n",
    "    try:\n",
    "        x_train = torch.cuda.FloatTensor(x_train)\n",
    "        y_train = torch.cuda.LongTensor(np.array(y_train))\n",
    "        x_test  = torch.cuda.FloatTensor(x_test)\n",
    "        y_test  = torch.cuda.LongTensor(np.array(y_test))\n",
    "    except:\n",
    "        pass\n",
    "else:\n",
    "    x_train = Variable(torch.from_numpy(x_train)).float()\n",
    "    y_train = Variable(torch.from_numpy(np.array(y_train))).long()\n",
    "    x_test  = Variable(torch.from_numpy(x_test)).float()\n",
    "    y_test  = Variable(torch.from_numpy(np.array(y_test))).long()\n",
    "\n",
    "loss_list     = np.zeros((EPOCHS,))\n",
    "accuracy_list = np.zeros((EPOCHS,))\n",
    "\n",
    "for epoch in tqdm.trange(EPOCHS):\n",
    "    y_pred = model(x_train)\n",
    "    loss = loss_fn(y_pred, y_train)\n",
    "    loss_list[epoch] = loss.item()\n",
    "\n",
    "    \n",
    "    # Zero gradients\n",
    "    optimizer.zero_grad()\n",
    "    loss.backward()\n",
    "    optimizer.step()\n",
    "    \n",
    "    with torch.no_grad():\n",
    "        y_pred = model(x_test)\n",
    "        correct = (torch.argmax(y_pred, dim=1) == y_test).type(torch.FloatTensor)\n",
    "        if (epoch+1) % 50 == 0:\n",
    "            print(f'Accuracy: {correct.mean():.2f}')\n",
    "        accuracy_list[epoch] = correct.mean()"
   ]
  },
  {
   "cell_type": "code",
   "execution_count": null,
   "metadata": {},
   "outputs": [],
   "source": [
    "fig, (ax1, ax2) = plt.subplots(2, figsize=(12, 6), sharex=True)\n",
    "\n",
    "ax1.plot(accuracy_list)\n",
    "ax1.set_ylabel(\"validation accuracy\")\n",
    "ax2.plot(loss_list)\n",
    "ax2.set_ylabel(\"validation loss\")\n",
    "ax2.set_xlabel(\"epochs\");"
   ]
  },
  {
   "cell_type": "code",
   "execution_count": null,
   "metadata": {},
   "outputs": [],
   "source": [
    "from sklearn.metrics import roc_curve, auc\n",
    "from sklearn.preprocessing import OneHotEncoder\n",
    "\n",
    "plt.figure(figsize=(10, 10))\n",
    "plt.plot([0, 1], [0, 1], 'k--')\n",
    "\n",
    "# One hot encoding\n",
    "enc = OneHotEncoder()\n",
    "if torch.cuda.is_available():\n",
    "    y_test = y_test.cpu()\n",
    "\n",
    "Y_onehot = enc.fit_transform(y_test[:, np.newaxis]).toarray()\n",
    "\n",
    "with torch.no_grad():\n",
    "    y_pred = model(x_test)\n",
    "    if torch.cuda.is_available():\n",
    "        y_pred = y_pred.cpu()\n",
    "    correct = (torch.argmax(y_pred, dim=1) == y_test).type(torch.FloatTensor)\n",
    "    y_pred = y_pred.numpy()\n",
    "    fpr, tpr, threshold = roc_curve(Y_onehot.ravel(), y_pred.ravel())\n",
    "    \n",
    "    \n",
    "plt.plot(fpr, tpr, label='AUC = {:.3f}'.format(auc(fpr, tpr)))\n",
    "plt.xlabel('False positive rate')\n",
    "plt.ylabel('True positive rate')\n",
    "plt.title('ROC curve')\n",
    "plt.legend();"
   ]
  },
  {
   "cell_type": "code",
   "execution_count": null,
   "metadata": {},
   "outputs": [],
   "source": [
    "print('Test Accuracy: {acc:.3}'.format(acc=correct.mean()))"
   ]
  },
  {
   "cell_type": "code",
   "execution_count": null,
   "metadata": {},
   "outputs": [],
   "source": []
  }
 ],
 "metadata": {
  "kernelspec": {
   "display_name": "Python 3",
   "language": "python",
   "name": "python3"
  },
  "language_info": {
   "codemirror_mode": {
    "name": "ipython",
    "version": 3
   },
   "file_extension": ".py",
   "mimetype": "text/x-python",
   "name": "python",
   "nbconvert_exporter": "python",
   "pygments_lexer": "ipython3",
   "version": "3.7.9"
  }
 },
 "nbformat": 4,
 "nbformat_minor": 5
}
